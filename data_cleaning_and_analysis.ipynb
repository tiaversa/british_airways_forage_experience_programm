{
 "cells": [
  {
   "cell_type": "markdown",
   "id": "15c97c92",
   "metadata": {},
   "source": [
    "# Data Cleaning and Analysis"
   ]
  },
  {
   "cell_type": "markdown",
   "id": "f9e6f2cd",
   "metadata": {},
   "source": [
    "## Data Access Into DF"
   ]
  },
  {
   "cell_type": "code",
   "execution_count": 6,
   "id": "079bd162",
   "metadata": {},
   "outputs": [
    {
     "data": {
      "text/html": [
       "<div>\n",
       "<style scoped>\n",
       "    .dataframe tbody tr th:only-of-type {\n",
       "        vertical-align: middle;\n",
       "    }\n",
       "\n",
       "    .dataframe tbody tr th {\n",
       "        vertical-align: top;\n",
       "    }\n",
       "\n",
       "    .dataframe thead th {\n",
       "        text-align: right;\n",
       "    }\n",
       "</style>\n",
       "<table border=\"1\" class=\"dataframe\">\n",
       "  <thead>\n",
       "    <tr style=\"text-align: right;\">\n",
       "      <th></th>\n",
       "      <th>Unnamed: 0</th>\n",
       "      <th>reviews</th>\n",
       "    </tr>\n",
       "  </thead>\n",
       "  <tbody>\n",
       "    <tr>\n",
       "      <th>0</th>\n",
       "      <td>0</td>\n",
       "      <td>✅ Trip Verified |  Customer Service does not e...</td>\n",
       "    </tr>\n",
       "    <tr>\n",
       "      <th>1</th>\n",
       "      <td>1</td>\n",
       "      <td>✅ Trip Verified | Another really great pair of...</td>\n",
       "    </tr>\n",
       "    <tr>\n",
       "      <th>2</th>\n",
       "      <td>2</td>\n",
       "      <td>Not Verified |  Our A380 developed a fault tax...</td>\n",
       "    </tr>\n",
       "    <tr>\n",
       "      <th>3</th>\n",
       "      <td>3</td>\n",
       "      <td>Not Verified | Horrible airline. Does not care...</td>\n",
       "    </tr>\n",
       "    <tr>\n",
       "      <th>4</th>\n",
       "      <td>4</td>\n",
       "      <td>✅ Trip Verified |  My family and I have flown ...</td>\n",
       "    </tr>\n",
       "    <tr>\n",
       "      <th>...</th>\n",
       "      <td>...</td>\n",
       "      <td>...</td>\n",
       "    </tr>\n",
       "    <tr>\n",
       "      <th>995</th>\n",
       "      <td>995</td>\n",
       "      <td>✅ Trip Verified | Flew Madrid to London Heathr...</td>\n",
       "    </tr>\n",
       "    <tr>\n",
       "      <th>996</th>\n",
       "      <td>996</td>\n",
       "      <td>✅ Trip Verified |  London Heathrow to Brindisi...</td>\n",
       "    </tr>\n",
       "    <tr>\n",
       "      <th>997</th>\n",
       "      <td>997</td>\n",
       "      <td>✅ Trip Verified | I have BA silver membership....</td>\n",
       "    </tr>\n",
       "    <tr>\n",
       "      <th>998</th>\n",
       "      <td>998</td>\n",
       "      <td>✅ Trip Verified |  Hamburg to London. Initial ...</td>\n",
       "    </tr>\n",
       "    <tr>\n",
       "      <th>999</th>\n",
       "      <td>999</td>\n",
       "      <td>Not Verified |  Glasgow to Miami via London. G...</td>\n",
       "    </tr>\n",
       "  </tbody>\n",
       "</table>\n",
       "<p>1000 rows × 2 columns</p>\n",
       "</div>"
      ],
      "text/plain": [
       "     Unnamed: 0                                            reviews\n",
       "0             0  ✅ Trip Verified |  Customer Service does not e...\n",
       "1             1  ✅ Trip Verified | Another really great pair of...\n",
       "2             2  Not Verified |  Our A380 developed a fault tax...\n",
       "3             3  Not Verified | Horrible airline. Does not care...\n",
       "4             4  ✅ Trip Verified |  My family and I have flown ...\n",
       "..          ...                                                ...\n",
       "995         995  ✅ Trip Verified | Flew Madrid to London Heathr...\n",
       "996         996  ✅ Trip Verified |  London Heathrow to Brindisi...\n",
       "997         997  ✅ Trip Verified | I have BA silver membership....\n",
       "998         998  ✅ Trip Verified |  Hamburg to London. Initial ...\n",
       "999         999  Not Verified |  Glasgow to Miami via London. G...\n",
       "\n",
       "[1000 rows x 2 columns]"
      ]
     },
     "execution_count": 6,
     "metadata": {},
     "output_type": "execute_result"
    }
   ],
   "source": [
    "import matplotlib.pyplot as plt\n",
    "from wordcloud import WordCloud, STOPWORDS\n",
    "import sys, os\n",
    "import pandas as pd\n",
    "\n",
    "df = pd.read_csv('data/BA_reviews.csv')\n",
    "df"
   ]
  },
  {
   "cell_type": "markdown",
   "id": "10b007b5",
   "metadata": {},
   "source": [
    "## Turn Into WordCloud"
   ]
  },
  {
   "cell_type": "code",
   "execution_count": 19,
   "id": "6c5ba171",
   "metadata": {},
   "outputs": [
    {
     "data": {
      "text/plain": [
       "<wordcloud.wordcloud.WordCloud at 0x7ff0b863f590>"
      ]
     },
     "execution_count": 19,
     "metadata": {},
     "output_type": "execute_result"
    }
   ],
   "source": [
    "review = df['reviews']\n",
    "review_collection = review.str.cat(sep=', ')\n",
    "stopwords = STOPWORDS #collection of words to not be included in the word cloud\n",
    "wc = WordCloud(\n",
    "        background_color='white',\n",
    "        stopwords=stopwords,\n",
    "        height=600,\n",
    "        width=400\n",
    ")\n",
    "wc.generate(review_collection)\n",
    "wc.to_file('analysis/wordcloud_output.png')"
   ]
  },
  {
   "cell_type": "code",
   "execution_count": null,
   "id": "e5c4ecea",
   "metadata": {},
   "outputs": [],
   "source": []
  }
 ],
 "metadata": {
  "kernelspec": {
   "display_name": "Python 3 (ipykernel)",
   "language": "python",
   "name": "python3"
  },
  "language_info": {
   "codemirror_mode": {
    "name": "ipython",
    "version": 3
   },
   "file_extension": ".py",
   "mimetype": "text/x-python",
   "name": "python",
   "nbconvert_exporter": "python",
   "pygments_lexer": "ipython3",
   "version": "3.7.5"
  }
 },
 "nbformat": 4,
 "nbformat_minor": 5
}
